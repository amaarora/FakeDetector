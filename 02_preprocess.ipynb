{
 "cells": [
  {
   "cell_type": "code",
   "execution_count": 1,
   "metadata": {},
   "outputs": [],
   "source": [
    "#default_exp data.preprocess"
   ]
  },
  {
   "cell_type": "code",
   "execution_count": 2,
   "metadata": {},
   "outputs": [],
   "source": [
    "%reload_ext autoreload\n",
    "%autoreload 2\n",
    "%matplotlib inline"
   ]
  },
  {
   "cell_type": "code",
   "execution_count": 3,
   "metadata": {},
   "outputs": [],
   "source": [
    "import warnings"
   ]
  },
  {
   "cell_type": "code",
   "execution_count": 4,
   "metadata": {},
   "outputs": [],
   "source": [
    "#export\n",
    "from FakeDetector.imports import *\n",
    "from FakeDetector.data.core import * "
   ]
  },
  {
   "cell_type": "code",
   "execution_count": 5,
   "metadata": {},
   "outputs": [],
   "source": [
    "import sys \n",
    "sys.path.append(\"/home/ubuntu/repos/FaceForensics/classification/\")"
   ]
  },
  {
   "cell_type": "code",
   "execution_count": 6,
   "metadata": {},
   "outputs": [],
   "source": [
    "from detect_from_video import *"
   ]
  },
  {
   "cell_type": "code",
   "execution_count": 7,
   "metadata": {},
   "outputs": [],
   "source": [
    "path = Path(\"/home/ubuntu/repos/FakeDetector/KaggleDataFiles/\")\n",
    "trn_sample = path/\"train_sample_videos/\"\n",
    "tst_sample = path/\"test_videos/\""
   ]
  },
  {
   "cell_type": "code",
   "execution_count": 8,
   "metadata": {},
   "outputs": [
    {
     "data": {
      "text/plain": [
       "(401, 400)"
      ]
     },
     "execution_count": 8,
     "metadata": {},
     "output_type": "execute_result"
    }
   ],
   "source": [
    "num_files(trn_sample), num_files(tst_sample)"
   ]
  },
  {
   "cell_type": "code",
   "execution_count": 9,
   "metadata": {},
   "outputs": [
    {
     "data": {
      "text/plain": [
       "(['ciyoudyhly.mp4',\n",
       "  'chzieimrwu.mp4',\n",
       "  'deyyistcrd.mp4',\n",
       "  'djvutyvaio.mp4',\n",
       "  'btunxncpjh.mp4'],\n",
       " 401)"
      ]
     },
     "execution_count": 9,
     "metadata": {},
     "output_type": "execute_result"
    }
   ],
   "source": [
    "fns = get_files(trn_sample); \n",
    "fns[:5], len(fns)"
   ]
  },
  {
   "cell_type": "code",
   "execution_count": 10,
   "metadata": {},
   "outputs": [],
   "source": [
    "model_path=\"/home/ubuntu/kaggle/deepfake/pretrained_FF_models/faceforensics++_models_subset/face_detection/xception/all_raw.p\""
   ]
  },
  {
   "cell_type": "code",
   "execution_count": 11,
   "metadata": {},
   "outputs": [],
   "source": [
    "preds = {}"
   ]
  },
  {
   "cell_type": "code",
   "execution_count": 12,
   "metadata": {},
   "outputs": [
    {
     "data": {
      "text/plain": [
       "['ciyoudyhly.mp4', 'chzieimrwu.mp4']"
      ]
     },
     "execution_count": 12,
     "metadata": {},
     "output_type": "execute_result"
    }
   ],
   "source": [
    "fns[:2]"
   ]
  },
  {
   "cell_type": "code",
   "execution_count": 13,
   "metadata": {},
   "outputs": [
    {
     "name": "stderr",
     "output_type": "stream",
     "text": [
      "/home/ubuntu/anaconda3/lib/python3.6/site-packages/torch/serialization.py:493: SourceChangeWarning: source code of class 'network.models.TransferModel' has changed. you can retrieve the original source code by accessing the object's source attribute or set `torch.nn.Module.dump_patches = True` and use the patch tool to revert the changes.\n",
      "  warnings.warn(msg, SourceChangeWarning)\n",
      "/home/ubuntu/anaconda3/lib/python3.6/site-packages/torch/serialization.py:493: SourceChangeWarning: source code of class 'torch.nn.modules.conv.Conv2d' has changed. you can retrieve the original source code by accessing the object's source attribute or set `torch.nn.Module.dump_patches = True` and use the patch tool to revert the changes.\n",
      "  warnings.warn(msg, SourceChangeWarning)\n",
      "/home/ubuntu/anaconda3/lib/python3.6/site-packages/torch/serialization.py:493: SourceChangeWarning: source code of class 'torch.nn.modules.batchnorm.BatchNorm2d' has changed. you can retrieve the original source code by accessing the object's source attribute or set `torch.nn.Module.dump_patches = True` and use the patch tool to revert the changes.\n",
      "  warnings.warn(msg, SourceChangeWarning)\n",
      "/home/ubuntu/anaconda3/lib/python3.6/site-packages/torch/serialization.py:493: SourceChangeWarning: source code of class 'torch.nn.modules.activation.ReLU' has changed. you can retrieve the original source code by accessing the object's source attribute or set `torch.nn.Module.dump_patches = True` and use the patch tool to revert the changes.\n",
      "  warnings.warn(msg, SourceChangeWarning)\n",
      "/home/ubuntu/anaconda3/lib/python3.6/site-packages/torch/serialization.py:493: SourceChangeWarning: source code of class 'torch.nn.modules.container.Sequential' has changed. you can retrieve the original source code by accessing the object's source attribute or set `torch.nn.Module.dump_patches = True` and use the patch tool to revert the changes.\n",
      "  warnings.warn(msg, SourceChangeWarning)\n",
      "/home/ubuntu/anaconda3/lib/python3.6/site-packages/torch/serialization.py:493: SourceChangeWarning: source code of class 'torch.nn.modules.pooling.MaxPool2d' has changed. you can retrieve the original source code by accessing the object's source attribute or set `torch.nn.Module.dump_patches = True` and use the patch tool to revert the changes.\n",
      "  warnings.warn(msg, SourceChangeWarning)\n",
      "/home/ubuntu/anaconda3/lib/python3.6/site-packages/torch/serialization.py:493: SourceChangeWarning: source code of class 'torch.nn.modules.linear.Linear' has changed. you can retrieve the original source code by accessing the object's source attribute or set `torch.nn.Module.dump_patches = True` and use the patch tool to revert the changes.\n",
      "  warnings.warn(msg, SourceChangeWarning)\n"
     ]
    },
    {
     "name": "stdout",
     "output_type": "stream",
     "text": [
      "Model found in /home/ubuntu/kaggle/deepfake/pretrained_FF_models/faceforensics++_models_subset/face_detection/xception/all_raw.p\n",
      "Starting: /home/ubuntu/repos/FakeDetector/KaggleDataFiles/train_sample_videos//ciyoudyhly.mp4\n",
      "Currently predicting for ciyoudyhly.mp4\n"
     ]
    },
    {
     "name": "stderr",
     "output_type": "stream",
     "text": [
      "100%|██████████| 300/300 [05:38<00:00,  1.10s/it]"
     ]
    },
    {
     "name": "stdout",
     "output_type": "stream",
     "text": [
      "Starting: /home/ubuntu/repos/FakeDetector/KaggleDataFiles/train_sample_videos//chzieimrwu.mp4\n",
      "Currently predicting for chzieimrwu.mp4\n"
     ]
    },
    {
     "name": "stderr",
     "output_type": "stream",
     "text": [
      "\n",
      "  0%|          | 0/300 [00:00<?, ?it/s]\u001b[A\n",
      "  1%|          | 2/300 [00:01<02:53,  1.71it/s]\u001b[A\n",
      "  1%|          | 3/300 [00:02<03:43,  1.33it/s]\u001b[A\n",
      "  1%|▏         | 4/300 [00:03<04:19,  1.14it/s]\u001b[A\n",
      "  2%|▏         | 5/300 [00:04<04:44,  1.04it/s]\u001b[A\n",
      "  2%|▏         | 6/300 [00:05<05:01,  1.02s/it]\u001b[A\n",
      "  2%|▏         | 7/300 [00:06<05:10,  1.06s/it]\u001b[A\n",
      "  3%|▎         | 8/300 [00:08<05:19,  1.09s/it]\u001b[A\n",
      "  3%|▎         | 9/300 [00:09<05:23,  1.11s/it]\u001b[A\n",
      "  3%|▎         | 10/300 [00:10<05:26,  1.13s/it]\u001b[A\n",
      "  4%|▎         | 11/300 [00:11<05:27,  1.13s/it]\u001b[A\n",
      "  4%|▍         | 12/300 [00:12<05:29,  1.15s/it]\u001b[A\n",
      "  4%|▍         | 13/300 [00:13<05:29,  1.15s/it]\u001b[A\n",
      "  5%|▍         | 14/300 [00:15<05:27,  1.14s/it]\u001b[A\n",
      "  5%|▌         | 15/300 [00:16<05:26,  1.15s/it]\u001b[A\n",
      "  5%|▌         | 16/300 [00:17<05:27,  1.15s/it]\u001b[A\n",
      "  6%|▌         | 17/300 [00:18<05:27,  1.16s/it]\u001b[A\n",
      "  6%|▌         | 18/300 [00:19<05:23,  1.15s/it]\u001b[A\n",
      "  6%|▋         | 19/300 [00:20<05:22,  1.15s/it]\u001b[A\n",
      "  7%|▋         | 20/300 [00:21<05:19,  1.14s/it]\u001b[A\n",
      "  7%|▋         | 21/300 [00:23<05:19,  1.15s/it]\u001b[A\n",
      "  7%|▋         | 22/300 [00:24<05:20,  1.15s/it]\u001b[A\n",
      "  8%|▊         | 23/300 [00:25<05:17,  1.15s/it]\u001b[A\n",
      "  8%|▊         | 24/300 [00:26<05:18,  1.15s/it]\u001b[A\n",
      "  8%|▊         | 25/300 [00:27<05:18,  1.16s/it]\u001b[A\n",
      "  9%|▊         | 26/300 [00:28<05:17,  1.16s/it]\u001b[A\n",
      "  9%|▉         | 27/300 [00:30<05:15,  1.16s/it]\u001b[A\n",
      "  9%|▉         | 28/300 [00:31<05:16,  1.16s/it]\u001b[A\n",
      " 10%|▉         | 29/300 [00:32<05:12,  1.15s/it]\u001b[A\n",
      " 10%|█         | 30/300 [00:33<05:12,  1.16s/it]\u001b[A\n",
      " 10%|█         | 31/300 [00:34<05:12,  1.16s/it]\u001b[A\n",
      " 11%|█         | 32/300 [00:35<05:09,  1.15s/it]\u001b[A\n",
      " 11%|█         | 33/300 [00:36<05:07,  1.15s/it]\u001b[A\n",
      " 11%|█▏        | 34/300 [00:38<05:08,  1.16s/it]\u001b[A\n",
      " 12%|█▏        | 35/300 [00:39<05:08,  1.17s/it]\u001b[A\n",
      " 12%|█▏        | 36/300 [00:40<05:08,  1.17s/it]\u001b[A\n",
      " 12%|█▏        | 37/300 [00:41<05:04,  1.16s/it]\u001b[A\n",
      " 13%|█▎        | 38/300 [00:42<05:03,  1.16s/it]\u001b[A\n",
      " 13%|█▎        | 39/300 [00:43<05:01,  1.16s/it]\u001b[A\n",
      " 13%|█▎        | 40/300 [00:45<04:59,  1.15s/it]\u001b[A\n",
      " 14%|█▎        | 41/300 [00:46<04:57,  1.15s/it]\u001b[A\n",
      " 14%|█▍        | 42/300 [00:47<04:57,  1.15s/it]\u001b[A\n",
      " 14%|█▍        | 43/300 [00:48<04:59,  1.17s/it]\u001b[A\n",
      " 15%|█▍        | 44/300 [00:49<04:58,  1.16s/it]\u001b[A\n",
      " 15%|█▌        | 45/300 [00:50<04:57,  1.17s/it]\u001b[A\n",
      " 15%|█▌        | 46/300 [00:52<04:55,  1.17s/it]\u001b[A\n",
      " 16%|█▌        | 47/300 [00:53<04:54,  1.16s/it]\u001b[A\n",
      " 16%|█▌        | 48/300 [00:54<04:52,  1.16s/it]\u001b[A\n",
      " 16%|█▋        | 49/300 [00:55<04:50,  1.16s/it]\u001b[A\n",
      " 17%|█▋        | 50/300 [00:56<04:50,  1.16s/it]\u001b[A\n",
      " 17%|█▋        | 51/300 [00:57<04:46,  1.15s/it]\u001b[A\n",
      " 17%|█▋        | 52/300 [00:59<04:44,  1.15s/it]\u001b[A\n",
      " 18%|█▊        | 53/300 [01:00<04:41,  1.14s/it]\u001b[A\n",
      " 18%|█▊        | 54/300 [01:01<04:39,  1.14s/it]\u001b[A\n",
      " 18%|█▊        | 55/300 [01:02<04:38,  1.13s/it]\u001b[A\n",
      " 19%|█▊        | 56/300 [01:03<04:38,  1.14s/it]\u001b[A\n",
      " 19%|█▉        | 57/300 [01:04<04:35,  1.13s/it]\u001b[A\n",
      " 19%|█▉        | 58/300 [01:05<04:31,  1.12s/it]\u001b[A\n",
      " 20%|█▉        | 59/300 [01:06<04:33,  1.13s/it]\u001b[A\n",
      " 20%|██        | 60/300 [01:08<04:33,  1.14s/it]\u001b[A\n",
      " 20%|██        | 61/300 [01:09<04:31,  1.14s/it]\u001b[A\n",
      " 21%|██        | 62/300 [01:10<04:31,  1.14s/it]\u001b[A\n",
      " 21%|██        | 63/300 [01:11<04:31,  1.14s/it]\u001b[A\n",
      " 21%|██▏       | 64/300 [01:12<04:29,  1.14s/it]\u001b[A\n",
      " 22%|██▏       | 65/300 [01:13<04:29,  1.15s/it]\u001b[A\n",
      " 22%|██▏       | 66/300 [01:14<04:28,  1.15s/it]\u001b[A\n",
      " 22%|██▏       | 67/300 [01:16<04:28,  1.15s/it]\u001b[A\n",
      " 23%|██▎       | 68/300 [01:17<04:27,  1.15s/it]\u001b[A\n",
      " 23%|██▎       | 69/300 [01:18<04:27,  1.16s/it]\u001b[A\n",
      " 23%|██▎       | 70/300 [01:19<04:26,  1.16s/it]\u001b[A\n",
      " 24%|██▎       | 71/300 [01:20<04:26,  1.16s/it]\u001b[A\n",
      " 24%|██▍       | 72/300 [01:21<04:25,  1.16s/it]\u001b[A\n",
      " 24%|██▍       | 73/300 [01:23<04:22,  1.16s/it]\u001b[A\n",
      " 25%|██▍       | 74/300 [01:24<04:20,  1.15s/it]\u001b[A\n",
      " 25%|██▌       | 75/300 [01:25<04:18,  1.15s/it]\u001b[A\n",
      " 25%|██▌       | 76/300 [01:26<04:16,  1.15s/it]\u001b[A\n",
      " 26%|██▌       | 77/300 [01:27<04:16,  1.15s/it]\u001b[A\n",
      " 26%|██▌       | 78/300 [01:28<04:14,  1.15s/it]\u001b[A\n",
      " 26%|██▋       | 79/300 [01:29<04:14,  1.15s/it]\u001b[A\n",
      " 27%|██▋       | 80/300 [01:31<04:11,  1.14s/it]\u001b[A\n",
      " 27%|██▋       | 81/300 [01:32<04:09,  1.14s/it]\u001b[A\n",
      " 27%|██▋       | 82/300 [01:33<04:08,  1.14s/it]\u001b[A\n",
      " 28%|██▊       | 83/300 [01:34<04:08,  1.15s/it]\u001b[A\n",
      " 28%|██▊       | 84/300 [01:35<04:08,  1.15s/it]\u001b[A\n",
      " 28%|██▊       | 85/300 [01:36<04:07,  1.15s/it]\u001b[A\n",
      " 29%|██▊       | 86/300 [01:37<04:06,  1.15s/it]\u001b[A\n",
      " 29%|██▉       | 87/300 [01:39<04:04,  1.15s/it]\u001b[A\n",
      " 29%|██▉       | 88/300 [01:40<04:03,  1.15s/it]\u001b[A\n",
      " 30%|██▉       | 89/300 [01:41<04:02,  1.15s/it]\u001b[A\n",
      " 30%|███       | 90/300 [01:42<04:01,  1.15s/it]\u001b[A\n",
      " 30%|███       | 91/300 [01:43<04:01,  1.15s/it]\u001b[A\n",
      " 31%|███       | 92/300 [01:44<04:00,  1.15s/it]\u001b[A\n",
      " 31%|███       | 93/300 [01:46<03:59,  1.16s/it]\u001b[A\n",
      " 31%|███▏      | 94/300 [01:47<03:58,  1.16s/it]\u001b[A\n",
      " 32%|███▏      | 95/300 [01:48<03:55,  1.15s/it]\u001b[A\n",
      " 32%|███▏      | 96/300 [01:49<03:53,  1.15s/it]\u001b[A\n",
      " 32%|███▏      | 97/300 [01:50<03:52,  1.14s/it]\u001b[A\n",
      " 33%|███▎      | 98/300 [01:51<03:51,  1.15s/it]\u001b[A\n",
      " 33%|███▎      | 99/300 [01:52<03:51,  1.15s/it]\u001b[A\n",
      " 33%|███▎      | 100/300 [01:54<03:50,  1.15s/it]\u001b[A\n",
      " 34%|███▎      | 101/300 [01:55<03:49,  1.15s/it]\u001b[A\n",
      " 34%|███▍      | 102/300 [01:56<03:48,  1.15s/it]\u001b[A\n",
      " 34%|███▍      | 103/300 [01:57<03:46,  1.15s/it]\u001b[A\n",
      " 35%|███▍      | 104/300 [01:58<03:45,  1.15s/it]\u001b[A\n",
      " 35%|███▌      | 105/300 [01:59<03:44,  1.15s/it]\u001b[A\n",
      " 35%|███▌      | 106/300 [02:00<03:42,  1.15s/it]\u001b[A\n",
      " 36%|███▌      | 107/300 [02:02<03:40,  1.14s/it]\u001b[A\n",
      " 36%|███▌      | 108/300 [02:03<03:39,  1.15s/it]\u001b[A\n",
      " 36%|███▋      | 109/300 [02:04<03:40,  1.15s/it]\u001b[A\n",
      " 37%|███▋      | 110/300 [02:05<03:42,  1.17s/it]\u001b[A\n",
      " 37%|███▋      | 111/300 [02:06<03:38,  1.16s/it]\u001b[A\n",
      " 37%|███▋      | 112/300 [02:07<03:37,  1.16s/it]\u001b[A\n",
      " 38%|███▊      | 113/300 [02:09<03:34,  1.15s/it]\u001b[A\n",
      " 38%|███▊      | 114/300 [02:10<03:33,  1.15s/it]\u001b[A\n",
      " 38%|███▊      | 115/300 [02:11<03:31,  1.14s/it]\u001b[A\n",
      " 39%|███▊      | 116/300 [02:12<03:31,  1.15s/it]\u001b[A\n",
      " 39%|███▉      | 117/300 [02:13<03:29,  1.15s/it]\u001b[A\n",
      " 39%|███▉      | 118/300 [02:14<03:27,  1.14s/it]\u001b[A\n",
      " 40%|███▉      | 119/300 [02:15<03:27,  1.15s/it]\u001b[A\n",
      " 40%|████      | 120/300 [02:17<03:25,  1.14s/it]\u001b[A\n",
      " 40%|████      | 121/300 [02:18<03:25,  1.15s/it]\u001b[A\n",
      " 41%|████      | 122/300 [02:19<03:23,  1.14s/it]\u001b[A\n",
      " 41%|████      | 123/300 [02:20<03:22,  1.14s/it]\u001b[A\n",
      " 41%|████▏     | 124/300 [02:21<03:20,  1.14s/it]\u001b[A\n",
      " 42%|████▏     | 125/300 [02:22<03:18,  1.13s/it]\u001b[A\n",
      " 42%|████▏     | 126/300 [02:23<03:17,  1.14s/it]\u001b[A\n",
      " 42%|████▏     | 127/300 [02:25<03:15,  1.13s/it]\u001b[A\n",
      " 43%|████▎     | 128/300 [02:26<03:14,  1.13s/it]\u001b[A\n",
      " 43%|████▎     | 129/300 [02:27<03:14,  1.14s/it]\u001b[A\n",
      " 43%|████▎     | 130/300 [02:28<03:12,  1.13s/it]\u001b[A\n",
      " 44%|████▎     | 131/300 [02:29<03:12,  1.14s/it]\u001b[A\n",
      " 44%|████▍     | 132/300 [02:30<03:12,  1.15s/it]\u001b[A\n",
      " 44%|████▍     | 133/300 [02:31<03:11,  1.15s/it]\u001b[A\n",
      " 45%|████▍     | 134/300 [02:33<03:11,  1.15s/it]\u001b[A\n",
      " 45%|████▌     | 135/300 [02:34<03:11,  1.16s/it]\u001b[A\n",
      " 45%|████▌     | 136/300 [02:35<03:10,  1.16s/it]\u001b[A\n",
      " 46%|████▌     | 137/300 [02:36<03:09,  1.16s/it]\u001b[A\n",
      " 46%|████▌     | 138/300 [02:37<03:07,  1.16s/it]\u001b[A\n",
      " 46%|████▋     | 139/300 [02:38<03:06,  1.16s/it]\u001b[A\n",
      " 47%|████▋     | 140/300 [02:40<03:04,  1.16s/it]\u001b[A\n",
      " 47%|████▋     | 141/300 [02:41<03:01,  1.14s/it]\u001b[A\n",
      " 47%|████▋     | 142/300 [02:42<03:00,  1.14s/it]\u001b[A\n",
      " 48%|████▊     | 143/300 [02:43<02:59,  1.14s/it]\u001b[A\n",
      " 48%|████▊     | 144/300 [02:44<02:58,  1.15s/it]\u001b[A\n",
      " 48%|████▊     | 145/300 [02:45<02:58,  1.15s/it]\u001b[A\n",
      " 49%|████▊     | 146/300 [02:46<02:57,  1.15s/it]\u001b[A\n",
      " 49%|████▉     | 147/300 [02:48<02:56,  1.16s/it]\u001b[A\n",
      " 49%|████▉     | 148/300 [02:49<02:56,  1.16s/it]\u001b[A\n",
      " 50%|████▉     | 149/300 [02:50<02:54,  1.16s/it]\u001b[A\n",
      " 50%|█████     | 150/300 [02:51<02:54,  1.16s/it]\u001b[A\n",
      " 50%|█████     | 151/300 [02:52<02:51,  1.15s/it]\u001b[A\n",
      " 51%|█████     | 152/300 [02:53<02:49,  1.15s/it]\u001b[A\n",
      " 51%|█████     | 153/300 [02:54<02:49,  1.15s/it]\u001b[A\n",
      " 51%|█████▏    | 154/300 [02:56<02:48,  1.15s/it]\u001b[A\n",
      " 52%|█████▏    | 155/300 [02:57<02:46,  1.15s/it]\u001b[A\n",
      " 52%|█████▏    | 156/300 [02:58<02:45,  1.15s/it]\u001b[A\n",
      " 52%|█████▏    | 157/300 [02:59<02:45,  1.15s/it]\u001b[A\n",
      " 53%|█████▎    | 158/300 [03:00<02:43,  1.15s/it]\u001b[A\n",
      " 53%|█████▎    | 159/300 [03:01<02:42,  1.15s/it]\u001b[A\n",
      " 53%|█████▎    | 160/300 [03:02<02:40,  1.14s/it]\u001b[A\n",
      " 54%|█████▎    | 161/300 [03:04<02:39,  1.14s/it]\u001b[A\n",
      " 54%|█████▍    | 162/300 [03:05<02:38,  1.15s/it]\u001b[A\n",
      " 54%|█████▍    | 163/300 [03:06<02:36,  1.15s/it]\u001b[A\n",
      " 55%|█████▍    | 164/300 [03:07<02:35,  1.14s/it]\u001b[A\n",
      " 55%|█████▌    | 165/300 [03:08<02:34,  1.15s/it]\u001b[A\n",
      " 55%|█████▌    | 166/300 [03:09<02:33,  1.14s/it]\u001b[A\n",
      " 56%|█████▌    | 167/300 [03:10<02:31,  1.14s/it]\u001b[A\n",
      " 56%|█████▌    | 168/300 [03:12<02:31,  1.14s/it]\u001b[A\n",
      " 56%|█████▋    | 169/300 [03:13<02:29,  1.14s/it]\u001b[A\n",
      " 57%|█████▋    | 170/300 [03:14<02:29,  1.15s/it]\u001b[A\n",
      " 57%|█████▋    | 171/300 [03:15<02:28,  1.15s/it]\u001b[A\n",
      " 57%|█████▋    | 172/300 [03:16<02:27,  1.16s/it]\u001b[A\n",
      " 58%|█████▊    | 173/300 [03:17<02:25,  1.15s/it]\u001b[A\n",
      " 58%|█████▊    | 174/300 [03:19<02:24,  1.15s/it]\u001b[A\n",
      " 58%|█████▊    | 175/300 [03:20<02:23,  1.15s/it]\u001b[A\n",
      " 59%|█████▊    | 176/300 [03:21<02:22,  1.15s/it]\u001b[A\n",
      " 59%|█████▉    | 177/300 [03:22<02:21,  1.15s/it]\u001b[A\n",
      " 59%|█████▉    | 178/300 [03:23<02:20,  1.15s/it]\u001b[A\n",
      " 60%|█████▉    | 179/300 [03:24<02:18,  1.15s/it]\u001b[A\n",
      " 60%|██████    | 180/300 [03:25<02:17,  1.15s/it]\u001b[A\n",
      " 60%|██████    | 181/300 [03:27<02:16,  1.15s/it]\u001b[A\n",
      " 61%|██████    | 182/300 [03:28<02:16,  1.15s/it]\u001b[A\n",
      " 61%|██████    | 183/300 [03:29<02:15,  1.16s/it]\u001b[A\n",
      " 61%|██████▏   | 184/300 [03:30<02:14,  1.16s/it]\u001b[A\n",
      " 62%|██████▏   | 185/300 [03:31<02:12,  1.15s/it]\u001b[A\n",
      " 62%|██████▏   | 186/300 [03:32<02:11,  1.16s/it]\u001b[A\n",
      " 62%|██████▏   | 187/300 [03:34<02:10,  1.15s/it]\u001b[A\n",
      " 63%|██████▎   | 188/300 [03:35<02:09,  1.16s/it]\u001b[A\n",
      " 63%|██████▎   | 189/300 [03:36<02:07,  1.15s/it]\u001b[A\n",
      " 63%|██████▎   | 190/300 [03:37<02:06,  1.15s/it]\u001b[A\n",
      " 64%|██████▎   | 191/300 [03:38<02:05,  1.15s/it]\u001b[A\n",
      " 64%|██████▍   | 192/300 [03:39<02:04,  1.15s/it]\u001b[A\n",
      " 64%|██████▍   | 193/300 [03:40<02:03,  1.16s/it]\u001b[A\n",
      " 65%|██████▍   | 194/300 [03:42<02:02,  1.16s/it]\u001b[A\n",
      " 65%|██████▌   | 195/300 [03:43<02:01,  1.16s/it]\u001b[A\n",
      " 65%|██████▌   | 196/300 [03:44<02:00,  1.16s/it]\u001b[A\n",
      " 66%|██████▌   | 197/300 [03:45<01:58,  1.15s/it]\u001b[A\n",
      " 66%|██████▌   | 198/300 [03:46<01:56,  1.14s/it]\u001b[A\n",
      " 66%|██████▋   | 199/300 [03:47<01:55,  1.14s/it]\u001b[A\n",
      " 67%|██████▋   | 200/300 [03:48<01:54,  1.15s/it]\u001b[A\n",
      " 67%|██████▋   | 201/300 [03:50<01:54,  1.15s/it]\u001b[A\n",
      " 67%|██████▋   | 202/300 [03:51<01:53,  1.16s/it]\u001b[A\n",
      " 68%|██████▊   | 203/300 [03:52<01:51,  1.15s/it]\u001b[A\n",
      " 68%|██████▊   | 204/300 [03:53<01:50,  1.15s/it]\u001b[A\n",
      " 68%|██████▊   | 205/300 [03:54<01:49,  1.15s/it]\u001b[A\n",
      " 69%|██████▊   | 206/300 [03:55<01:47,  1.15s/it]\u001b[A\n",
      " 69%|██████▉   | 207/300 [03:57<01:46,  1.15s/it]\u001b[A\n",
      " 69%|██████▉   | 208/300 [03:58<01:45,  1.15s/it]\u001b[A\n",
      " 70%|██████▉   | 209/300 [03:59<01:44,  1.14s/it]\u001b[A\n",
      " 70%|███████   | 210/300 [04:00<01:43,  1.14s/it]\u001b[A\n",
      " 70%|███████   | 211/300 [04:01<01:42,  1.15s/it]\u001b[A\n",
      " 71%|███████   | 212/300 [04:02<01:40,  1.14s/it]\u001b[A\n",
      " 71%|███████   | 213/300 [04:03<01:38,  1.13s/it]\u001b[A\n",
      " 71%|███████▏  | 214/300 [04:05<01:37,  1.14s/it]\u001b[A\n",
      " 72%|███████▏  | 215/300 [04:06<01:36,  1.14s/it]\u001b[A\n",
      " 72%|███████▏  | 216/300 [04:07<01:36,  1.15s/it]\u001b[A\n",
      " 72%|███████▏  | 217/300 [04:08<01:35,  1.15s/it]\u001b[A\n",
      " 73%|███████▎  | 218/300 [04:09<01:33,  1.14s/it]\u001b[A\n",
      " 73%|███████▎  | 219/300 [04:10<01:32,  1.15s/it]\u001b[A\n",
      " 73%|███████▎  | 220/300 [04:11<01:32,  1.15s/it]\u001b[A\n",
      " 74%|███████▎  | 221/300 [04:13<01:31,  1.15s/it]\u001b[A\n",
      " 74%|███████▍  | 222/300 [04:14<01:29,  1.15s/it]\u001b[A\n",
      " 74%|███████▍  | 223/300 [04:15<01:28,  1.15s/it]\u001b[A\n",
      " 75%|███████▍  | 224/300 [04:16<01:27,  1.15s/it]\u001b[A\n",
      " 75%|███████▌  | 225/300 [04:17<01:26,  1.15s/it]\u001b[A\n",
      " 75%|███████▌  | 226/300 [04:18<01:25,  1.15s/it]\u001b[A\n",
      " 76%|███████▌  | 227/300 [04:19<01:23,  1.15s/it]\u001b[A\n",
      " 76%|███████▌  | 228/300 [04:21<01:22,  1.15s/it]\u001b[A\n",
      " 76%|███████▋  | 229/300 [04:22<01:21,  1.15s/it]\u001b[A\n",
      " 77%|███████▋  | 230/300 [04:23<01:20,  1.15s/it]\u001b[A\n",
      " 77%|███████▋  | 231/300 [04:24<01:19,  1.16s/it]\u001b[A\n",
      " 77%|███████▋  | 232/300 [04:25<01:18,  1.15s/it]\u001b[A\n",
      " 78%|███████▊  | 233/300 [04:26<01:16,  1.15s/it]\u001b[A\n",
      " 78%|███████▊  | 234/300 [04:28<01:15,  1.14s/it]\u001b[A\n",
      " 78%|███████▊  | 235/300 [04:29<01:14,  1.15s/it]\u001b[A\n",
      " 79%|███████▊  | 236/300 [04:30<01:13,  1.14s/it]\u001b[A\n",
      " 79%|███████▉  | 237/300 [04:31<01:12,  1.15s/it]\u001b[A\n",
      " 79%|███████▉  | 238/300 [04:32<01:11,  1.16s/it]\u001b[A\n",
      " 80%|███████▉  | 239/300 [04:33<01:10,  1.15s/it]\u001b[A\n",
      " 80%|████████  | 240/300 [04:34<01:09,  1.15s/it]\u001b[A\n",
      " 80%|████████  | 241/300 [04:36<01:08,  1.15s/it]\u001b[A\n",
      " 81%|████████  | 242/300 [04:37<01:06,  1.15s/it]\u001b[A\n",
      " 81%|████████  | 243/300 [04:38<01:06,  1.16s/it]\u001b[A\n",
      " 81%|████████▏ | 244/300 [04:39<01:04,  1.16s/it]\u001b[A\n",
      " 82%|████████▏ | 245/300 [04:40<01:03,  1.16s/it]\u001b[A\n",
      " 82%|████████▏ | 246/300 [04:41<01:02,  1.16s/it]\u001b[A\n",
      " 82%|████████▏ | 247/300 [04:43<01:01,  1.16s/it]\u001b[A\n",
      " 83%|████████▎ | 248/300 [04:44<01:00,  1.16s/it]\u001b[A\n",
      " 83%|████████▎ | 249/300 [04:45<00:58,  1.15s/it]\u001b[A\n",
      " 83%|████████▎ | 250/300 [04:46<00:57,  1.16s/it]\u001b[A\n",
      " 84%|████████▎ | 251/300 [04:47<00:56,  1.15s/it]\u001b[A\n",
      " 84%|████████▍ | 252/300 [04:48<00:55,  1.15s/it]\u001b[A\n",
      " 84%|████████▍ | 253/300 [04:49<00:54,  1.15s/it]\u001b[A\n",
      " 85%|████████▍ | 254/300 [04:51<00:52,  1.15s/it]\u001b[A\n",
      " 85%|████████▌ | 255/300 [04:52<00:51,  1.15s/it]\u001b[A\n",
      " 85%|████████▌ | 256/300 [04:53<00:50,  1.15s/it]\u001b[A\n",
      " 86%|████████▌ | 257/300 [04:54<00:49,  1.15s/it]\u001b[A\n",
      " 86%|████████▌ | 258/300 [04:55<00:47,  1.14s/it]\u001b[A\n",
      " 86%|████████▋ | 259/300 [04:56<00:46,  1.14s/it]\u001b[A\n",
      " 87%|████████▋ | 260/300 [04:57<00:45,  1.14s/it]\u001b[A\n",
      " 87%|████████▋ | 261/300 [04:59<00:44,  1.13s/it]\u001b[A\n",
      " 87%|████████▋ | 262/300 [05:00<00:43,  1.13s/it]\u001b[A\n",
      " 88%|████████▊ | 263/300 [05:01<00:41,  1.13s/it]\u001b[A\n",
      " 88%|████████▊ | 264/300 [05:02<00:41,  1.14s/it]\u001b[A\n",
      " 88%|████████▊ | 265/300 [05:03<00:40,  1.15s/it]\u001b[A\n",
      " 89%|████████▊ | 266/300 [05:04<00:39,  1.17s/it]\u001b[A\n",
      " 89%|████████▉ | 267/300 [05:06<00:38,  1.17s/it]\u001b[A\n",
      " 89%|████████▉ | 268/300 [05:07<00:37,  1.16s/it]\u001b[A\n",
      " 90%|████████▉ | 269/300 [05:08<00:35,  1.16s/it]\u001b[A\n",
      " 90%|█████████ | 270/300 [05:09<00:34,  1.16s/it]\u001b[A\n",
      " 90%|█████████ | 271/300 [05:10<00:33,  1.15s/it]\u001b[A\n",
      " 91%|█████████ | 272/300 [05:11<00:32,  1.15s/it]\u001b[A\n",
      " 91%|█████████ | 273/300 [05:12<00:31,  1.15s/it]\u001b[A\n",
      " 91%|█████████▏| 274/300 [05:14<00:30,  1.15s/it]\u001b[A\n",
      " 92%|█████████▏| 275/300 [05:15<00:28,  1.15s/it]\u001b[A\n",
      " 92%|█████████▏| 276/300 [05:16<00:27,  1.15s/it]\u001b[A\n",
      " 92%|█████████▏| 277/300 [05:17<00:26,  1.15s/it]\u001b[A\n",
      " 93%|█████████▎| 278/300 [05:18<00:25,  1.15s/it]\u001b[A\n",
      " 93%|█████████▎| 279/300 [05:19<00:24,  1.15s/it]\u001b[A\n",
      " 93%|█████████▎| 280/300 [05:21<00:23,  1.16s/it]\u001b[A\n",
      " 94%|█████████▎| 281/300 [05:22<00:21,  1.15s/it]\u001b[A\n",
      " 94%|█████████▍| 282/300 [05:23<00:20,  1.15s/it]\u001b[A\n",
      " 94%|█████████▍| 283/300 [05:24<00:19,  1.15s/it]\u001b[A\n",
      " 95%|█████████▍| 284/300 [05:25<00:18,  1.16s/it]\u001b[A\n",
      " 95%|█████████▌| 285/300 [05:26<00:17,  1.15s/it]\u001b[A\n",
      " 95%|█████████▌| 286/300 [05:27<00:16,  1.15s/it]\u001b[A\n",
      " 96%|█████████▌| 287/300 [05:29<00:14,  1.15s/it]\u001b[A\n",
      " 96%|█████████▌| 288/300 [05:30<00:13,  1.16s/it]\u001b[A\n",
      " 96%|█████████▋| 289/300 [05:31<00:12,  1.16s/it]\u001b[A\n",
      " 97%|█████████▋| 290/300 [05:32<00:11,  1.15s/it]\u001b[A\n",
      " 97%|█████████▋| 291/300 [05:33<00:10,  1.15s/it]\u001b[A\n",
      " 97%|█████████▋| 292/300 [05:34<00:09,  1.15s/it]\u001b[A\n",
      " 98%|█████████▊| 293/300 [05:35<00:08,  1.15s/it]\u001b[A\n",
      " 98%|█████████▊| 294/300 [05:37<00:06,  1.15s/it]\u001b[A\n",
      " 98%|█████████▊| 295/300 [05:38<00:05,  1.15s/it]\u001b[A\n",
      " 99%|█████████▊| 296/300 [05:39<00:04,  1.14s/it]\u001b[A\n",
      " 99%|█████████▉| 297/300 [05:40<00:03,  1.15s/it]\u001b[A\n",
      " 99%|█████████▉| 298/300 [05:41<00:02,  1.15s/it]\u001b[A"
     ]
    }
   ],
   "source": [
    "%%time\n",
    "preds = test_full_image_network(video_folder_path=f\"{trn_sample}\", fns=fns,\n",
    "                                model_path=model_path,\n",
    "                                output_path=\"./output\")"
   ]
  },
  {
   "cell_type": "code",
   "execution_count": 14,
   "metadata": {},
   "outputs": [
    {
     "data": {
      "text/plain": [
       "{'ciyoudyhly.mp4': tensor(0.8496, device='cuda:0', grad_fn=<MaxBackward1>),\n",
       " 'chzieimrwu.mp4': tensor(0.9687, device='cuda:0', grad_fn=<MaxBackward1>)}"
      ]
     },
     "execution_count": 14,
     "metadata": {},
     "output_type": "execute_result"
    }
   ],
   "source": [
    "preds"
   ]
  },
  {
   "cell_type": "code",
   "execution_count": 15,
   "metadata": {},
   "outputs": [
    {
     "name": "stdout",
     "output_type": "stream",
     "text": [
      "Converted 00_core.ipynb.\n",
      "Converted 01_data.ipynb.\n",
      "Converted 02_preprocess.ipynb.\n",
      "Converted index.ipynb.\n"
     ]
    }
   ],
   "source": [
    "from nbdev.export import *\n",
    "notebook2script()"
   ]
  }
 ],
 "metadata": {
  "kernelspec": {
   "display_name": "Python 3",
   "language": "python",
   "name": "python3"
  },
  "language_info": {
   "codemirror_mode": {
    "name": "ipython",
    "version": 3
   },
   "file_extension": ".py",
   "mimetype": "text/x-python",
   "name": "python",
   "nbconvert_exporter": "python",
   "pygments_lexer": "ipython3",
   "version": "3.6.9"
  },
  "toc": {
   "base_numbering": 1,
   "nav_menu": {},
   "number_sections": true,
   "sideBar": true,
   "skip_h1_title": false,
   "title_cell": "Table of Contents",
   "title_sidebar": "Contents",
   "toc_cell": false,
   "toc_position": {},
   "toc_section_display": true,
   "toc_window_display": false
  }
 },
 "nbformat": 4,
 "nbformat_minor": 2
}
